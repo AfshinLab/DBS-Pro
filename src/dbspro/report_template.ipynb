{
 "cells": [
  {
   "cell_type": "markdown",
   "metadata": {},
   "source": [
    "# DBS-Pro Analysis Report\n",
    "\n",
    "## Dataprocessing\n",
    "### Load data"
   ]
  },
  {
   "cell_type": "code",
   "execution_count": null,
   "metadata": {
    "scrolled": true
   },
   "outputs": [],
   "source": [
    "%matplotlib inline\n",
    "# Imports\n",
    "import pandas as pd\n",
    "import seaborn as sns\n",
    "import matplotlib.pyplot as plt\n",
    "\n",
    "#Data import \n",
    "df_umi = pd.read_csv(\"umi_counts.tsv\", sep=\"\\t\").set_index(\"BC\")\n",
    "df_reads = pd.read_csv(\"read_counts.tsv\", sep=\"\\t\").set_index(\"BC\")\n",
    "\n",
    "#List names of targets\n",
    "target_names = df_umi.columns.values"
   ]
  },
  {
   "cell_type": "markdown",
   "metadata": {},
   "source": [
    "### Merge data"
   ]
  },
  {
   "cell_type": "code",
   "execution_count": null,
   "metadata": {},
   "outputs": [],
   "source": [
    "df_umi_melt = pd.melt(df_umi.reset_index(), var_name=\"Target\", value_name=\"UMI\", id_vars=\"BC\")\n",
    "df_reads_melt = pd.melt(df_reads.reset_index(), var_name=\"Target\", value_name=\"Reads\", id_vars=\"BC\")\n",
    "df = pd.merge(df_umi_melt,df_reads_melt, on=[\"BC\",\"Target\"])\n",
    "df.head()"
   ]
  },
  {
   "cell_type": "markdown",
   "metadata": {},
   "source": [
    "### Filter data"
   ]
  },
  {
   "cell_type": "code",
   "execution_count": null,
   "metadata": {},
   "outputs": [],
   "source": [
    "FILTER_THRESHOLD = 1\n",
    "\n",
    "df_filt = df[df.Reads > FILTER_THRESHOLD]\n",
    "df_filt.head()"
   ]
  },
  {
   "cell_type": "markdown",
   "metadata": {},
   "source": [
    "## Results"
   ]
  },
  {
   "cell_type": "markdown",
   "metadata": {},
   "source": [
    "### Box plots"
   ]
  },
  {
   "cell_type": "code",
   "execution_count": null,
   "metadata": {},
   "outputs": [],
   "source": [
    "ax = sns.boxplot(data=df, x=\"Target\", y=\"UMI\").set_title(\"UMI count (Unfiltered)\")"
   ]
  },
  {
   "cell_type": "code",
   "execution_count": null,
   "metadata": {},
   "outputs": [],
   "source": [
    "ax = sns.boxplot(data=df_filt, x=\"Target\", y=\"UMI\").set_title(\"UMI count (Filtered)\")"
   ]
  },
  {
   "cell_type": "code",
   "execution_count": null,
   "metadata": {},
   "outputs": [],
   "source": [
    "ax = sns.boxplot(data=df, x=\"Target\", y=\"Reads\").set_title(\"Read count (Unfiltered)\")"
   ]
  },
  {
   "cell_type": "code",
   "execution_count": null,
   "metadata": {},
   "outputs": [],
   "source": [
    "ax = sns.boxplot(data=df_filt, x=\"Target\", y=\"Reads\").set_title(\"Read count (Filtered)\")"
   ]
  },
  {
   "cell_type": "markdown",
   "metadata": {},
   "source": [
    "### Paired plots"
   ]
  },
  {
   "cell_type": "code",
   "execution_count": null,
   "metadata": {},
   "outputs": [],
   "source": [
    "def pair_heatmap(df, title=None):\n",
    "    # Based of https://stackoverflow.com/questions/43924280/pair-plot-with-heat-maps-possibly-logarithmic\n",
    "    from matplotlib.colors import LogNorm\n",
    "    sns.set(style=\"white\")\n",
    "    g = sns.PairGrid(df)\n",
    "    g.map_diag(plt.hist, bins=20)\n",
    "    \n",
    "    # Set title\n",
    "    plt.subplots_adjust(top=0.9)\n",
    "    g.fig.suptitle(title)\n",
    "    \n",
    "    def pairgrid_heatmap(x, y, **kws):\n",
    "        cmap = sns.light_palette(kws.pop(\"color\"), as_cmap=True)\n",
    "        plt.hist2d(x, y, cmap=cmap, cmin=1, **kws)\n",
    "\n",
    "    g.map_offdiag(pairgrid_heatmap, bins=20, norm=LogNorm())"
   ]
  },
  {
   "cell_type": "code",
   "execution_count": null,
   "metadata": {},
   "outputs": [],
   "source": [
    "# Plot unfiltered data for UMIs\n",
    "pair_heatmap(df_umi, title=\"UMI count (Unfiltered)\")"
   ]
  },
  {
   "cell_type": "code",
   "execution_count": null,
   "metadata": {},
   "outputs": [],
   "source": [
    "# Plot filtered data for UMIs\n",
    "df_filt_umi = df_filt.pivot(index=\"BC\", columns=\"Target\", values=\"UMI\").fillna(0)\n",
    "pair_heatmap(df_filt_umi, title=\"UMI count (Filtered)\")"
   ]
  },
  {
   "cell_type": "code",
   "execution_count": null,
   "metadata": {},
   "outputs": [],
   "source": [
    "# Plot unfiltered data for reads\n",
    "pair_heatmap(df_reads, title=\"Read count (Unfiltered)\")"
   ]
  },
  {
   "cell_type": "code",
   "execution_count": null,
   "metadata": {},
   "outputs": [],
   "source": [
    "# Plot filtered data for reads\n",
    "df_filt_reads = df_filt.pivot(index=\"BC\", columns=\"Target\", values=\"Reads\").fillna(0)\n",
    "pair_heatmap(df_filt_reads, title=\"Read count (Filtered)\")"
   ]
  }
 ],
 "metadata": {
  "kernelspec": {
   "display_name": "Python 3",
   "language": "python",
   "name": "python3"
  },
  "language_info": {
   "codemirror_mode": {
    "name": "ipython",
    "version": 3
   },
   "file_extension": ".py",
   "mimetype": "text/x-python",
   "name": "python",
   "nbconvert_exporter": "python",
   "pygments_lexer": "ipython3",
   "version": "3.6.7"
  }
 },
 "nbformat": 4,
 "nbformat_minor": 2
}
